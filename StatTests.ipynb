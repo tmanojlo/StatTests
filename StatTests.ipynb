{
 "cells": [
  {
   "cell_type": "code",
   "execution_count": 27,
   "metadata": {
    "collapsed": true
   },
   "outputs": [],
   "source": [
    "import numpy as np\n",
    "import random\n",
    "import sklearn.utils\n",
    "from sklearn.metrics import confusion_matrix\n",
    "from sklearn.metrics import accuracy_score\n",
    "import math\n",
    "from sklearn.model_selection import train_test_split\n",
    "from sklearn.model_selection import KFold, StratifiedKFold\n",
    "from scipy import stats\n",
    "import matplotlib.pyplot as plt;\n",
    "\n",
    "import numpy as np\n",
    "import matplotlib.pyplot as plt\n"
   ]
  },
  {
   "cell_type": "code",
   "execution_count": 2,
   "metadata": {},
   "outputs": [],
   "source": [
    "def flip(classified_sample):\n",
    "    if classified_sample == 1:\n",
    "        classified_sample = 0\n",
    "    else:\n",
    "        classified_sample = 1\n",
    "    return classified_sample"
   ]
  },
  {
   "cell_type": "code",
   "execution_count": 3,
   "metadata": {},
   "outputs": [],
   "source": [
    "n_training_samples = 7500\n",
    "num_iterations = 1000\n",
    "num_samples = 300\n",
    "misclassification_prob1=0.5\n",
    "misclassification_prob2=0.1\n",
    "test_class = []\n",
    "for i in range(0,n_training_samples):\n",
    "    test_class.append(random.randrange(0,2,1))\n",
    "\n",
    "test_class = np.array(test_class)\n"
   ]
  },
  {
   "cell_type": "code",
   "execution_count": 4,
   "metadata": {
    "collapsed": false
   },
   "outputs": [],
   "source": [
    "def get_results(sample_classifier1, sample_classifier2, sample_true_class):\n",
    "    n01 = 0\n",
    "    n10 = 0\n",
    "    n00 = 0\n",
    "    n11 = 0\n",
    "\n",
    "    for i in range(0, len(sample_classifier1)):\n",
    "        if (sample_true_class[i] == sample_classifier1[i]) and (sample_true_class[i] != sample_classifier2[i]):\n",
    "            n01 = n01 + 1\n",
    "        if ((sample_true_class[i] == sample_classifier2[i]) and sample_true_class[i] != sample_classifier1[i]):\n",
    "            n10 = n10 + 1\n",
    "        if (sample_true_class[i] != sample_classifier1[i]) and (sample_true_class[i] != sample_classifier2[i]):\n",
    "            n00 = n00 + 1\n",
    "        if (sample_true_class[i] == sample_classifier1[i]) and (sample_true_class[i] == sample_classifier2[i]):\n",
    "            n11 = n11 + 1\n",
    "    return n01, n10, n00, n11\n",
    "\n",
    "def sample_dataset_classes(test_class, num_samples):\n",
    "    sample_true_class = []\n",
    "    for j in range(0, num_samples):\n",
    "        index = random.randrange(0, 7500, 1)\n",
    "        sample_true_class.append(test_class[index])\n",
    "    return np.array(sample_true_class)\n",
    "\n",
    "\n",
    "def sample_classifiers(sample_true_class, min, max):\n",
    "    sample_classifier1 = []\n",
    "    sample_classifier2 = []\n",
    "    for j in range(0, int(num_samples / 2)):\n",
    "        sample_classifier1.append(sample_true_class[j] if (random.uniform(0, 1) + random.uniform(min,\n",
    "                                                                                                 max)) > misclassification_prob1 else flip(\n",
    "            sample_true_class[j]))\n",
    "        sample_classifier2.append(sample_true_class[j] if (random.uniform(0, 1) + random.uniform(min,\n",
    "                                                                                                 max)) > misclassification_prob2 else flip(\n",
    "            sample_true_class[j]))\n",
    "    for j in range(int(num_samples / 2), num_samples):\n",
    "        sample_classifier1.append(sample_true_class[j] if (random.uniform(0, 1) + random.uniform(min,\n",
    "                                                                                                 max)) > misclassification_prob2 else flip(\n",
    "            sample_true_class[j]))\n",
    "        sample_classifier2.append(sample_true_class[j] if (random.uniform(0, 1) + random.uniform(min,\n",
    "                                                                                                 max)) > misclassification_prob1 else flip(\n",
    "            sample_true_class[j]))\n",
    "\n",
    "    return np.array(sample_classifier1), np.array(sample_classifier2)\n"
   ]
  },
  {
   "cell_type": "code",
   "execution_count": 21,
   "metadata": {},
   "outputs": [],
   "source": [
    "def mc_nemar(sample_true_class, sample_classifier1, sample_classifier2, border_value):\n",
    "    train, test, train_indices, test_indices = train_test_split(sample_true_class, np.arange(num_samples),\n",
    "                                                                test_size=0.3)\n",
    "    n01, n10, n00, n11 = get_results(sample_classifier1[test_indices], sample_classifier2[test_indices],\n",
    "                                     sample_true_class[test_indices])\n",
    "    mcnemar = ((abs(n01 - n10) - 1) ** 2) / (n01 + n10)\n",
    "    if (mcnemar > border_value):\n",
    "        return True\n",
    "    else:\n",
    "        return False\n",
    "\n",
    "#test for difference of two proportions 1.96 z statistic\n",
    "def pair_z(sample_true_class, sample_classifier1, sample_classifier2, border_value):\n",
    "    train, test, train_indices, test_indices = train_test_split(sample_true_class, np.arange(num_samples),\n",
    "                                                                test_size=0.3)\n",
    "    n01, n10, n00, n11 = get_results(sample_classifier1[test_indices], sample_classifier2[test_indices],\n",
    "                                     sample_true_class[test_indices])\n",
    "    pA = (n00 + n01) / (len(test_indices))\n",
    "    pB = (n00 + n10) / (len(test_indices))\n",
    "    p = (pA + pB) / 2\n",
    "    Z = (pA - pB) / math.sqrt((2 * p * (1 - p)) / (len(test_indices)))\n",
    "    if (abs(Z) > border_value):\n",
    "        return True\n",
    "    else:\n",
    "        return False\n",
    "\n",
    "#t statistics, 29 stupnjeva slobode, 2.04523\n",
    "def resampled_t_test(sample_true_class, border_value):\n",
    "    p_a = []\n",
    "    p_b = []\n",
    "    for i in range(0, 30):\n",
    "        train, test, train_indices, test_indices = train_test_split(sample_true_class, np.arange(num_samples),\n",
    "                                                                    test_size=0.3)\n",
    "        sample_classifier1, sample_classifier2 = sample_classifiers(sample_true_class, 0, 0)\n",
    "        n01, n10, n00, n11 = get_results(sample_classifier1[test_indices], sample_classifier2[test_indices],\n",
    "                                         sample_true_class[test_indices])\n",
    "        p_a.append((n00 + n01) / (len(test_indices)))\n",
    "        p_b.append((n00 + n10) / (len(test_indices)))\n",
    "    result = stats.ttest_ind(p_a, p_b)\n",
    "    if (abs(result[0]) > border_value):\n",
    "        return True\n",
    "    else:\n",
    "        return False\n",
    "\n",
    "#kfold t test\n",
    "def kfold_t_test(sample_true_class, sample_classifier1, sample_classifier2, border_value):\n",
    "    p_a = []\n",
    "    p_b = []\n",
    "    kf = StratifiedKFold(n_splits=10, shuffle=True)\n",
    "    kf.get_n_splits(sample_classifier1)\n",
    "    for train_index, test_index in kf.split(sample_true_class, sample_true_class):\n",
    "        n01, n10, n00, n11 = get_results(sample_classifier1[test_index], sample_classifier2[test_index],\n",
    "                                         sample_true_class[test_index])\n",
    "        p_a.append((n00 + n01) / (len(test_index)))\n",
    "        p_b.append((n00 + n10) / (len(test_index)))\n",
    "    result = stats.ttest_ind(p_a, p_b)\n",
    "    if (abs(result[0]) > border_value):\n",
    "        return True\n",
    "    else:\n",
    "        return False\n",
    "\n",
    "#5x2cv test 2.776 mora biti da bi bilo signifikantno\n",
    "def t_test5x2cv(sample_true_class, sample_classifier1, sample_classifier2, border_value):\n",
    "    variance = []\n",
    "    kf = KFold(n_splits=2, shuffle=True)\n",
    "    kf.get_n_splits(sample_classifier1)\n",
    "    for i in range(0, 5):\n",
    "        fold = 0\n",
    "        counter = 0\n",
    "        p_1 = 0\n",
    "        p_2 = 0\n",
    "\n",
    "        for train_index, test_index in kf.split(sample_classifier1):\n",
    "            n01, n10, n00, n11 = get_results(sample_classifier1[test_index], sample_classifier2[test_index],\n",
    "                                             sample_true_class[test_index])\n",
    "            pA = (n00 + n01) / (len(test_index))\n",
    "            pB = (n00 + n10) / (len(test_index))\n",
    "            fold = fold + 1\n",
    "            if (counter == 0):\n",
    "                p_1 = pA - pB\n",
    "            if (counter == 1):\n",
    "                p_2 = pA - pB\n",
    "            counter = counter + 1\n",
    "        p_error = (p_1 + p_2) / 2\n",
    "        variance.append(((p_1 - p_error) ** 2) + ((p_2 - p_error) ** 2))\n",
    "\n",
    "    T = p_1 / (math.sqrt(np.mean(np.array(variance))))\n",
    "    if (abs(T) > border_value):\n",
    "        return True\n",
    "    else:\n",
    "        return False\n"
   ]
  },
  {
   "cell_type": "code",
   "execution_count": 23,
   "metadata": {
    "collapsed": false
   },
   "outputs": [
    {
     "name": "stdout",
     "output_type": "stream",
     "text": [
      "Calculating iteration 0\nCalculating iteration 1\nCalculating iteration 2\n"
     ]
    },
    {
     "name": "stdout",
     "output_type": "stream",
     "text": [
      "Calculating iteration 3\nCalculating iteration 4\nCalculating iteration 5\n"
     ]
    },
    {
     "name": "stdout",
     "output_type": "stream",
     "text": [
      "Calculating iteration 6\nCalculating iteration 7\nCalculating iteration 8\n"
     ]
    },
    {
     "name": "stdout",
     "output_type": "stream",
     "text": [
      "Calculating iteration 9\nCalculating iteration 10\nCalculating iteration 11\n"
     ]
    },
    {
     "name": "stdout",
     "output_type": "stream",
     "text": [
      "Calculating iteration 12\nCalculating iteration 13\nCalculating iteration 14\n"
     ]
    },
    {
     "name": "stdout",
     "output_type": "stream",
     "text": [
      "Calculating iteration 15\nCalculating iteration 16\nCalculating iteration 17\n"
     ]
    },
    {
     "name": "stdout",
     "output_type": "stream",
     "text": [
      "Calculating iteration 18\nCalculating iteration 19\nCalculating iteration 20\n"
     ]
    },
    {
     "name": "stdout",
     "output_type": "stream",
     "text": [
      "Calculating iteration 21\nCalculating iteration 22\nCalculating iteration 23\n"
     ]
    },
    {
     "name": "stdout",
     "output_type": "stream",
     "text": [
      "Calculating iteration 24\nCalculating iteration 25\nCalculating iteration 26\nCalculating iteration 27"
     ]
    },
    {
     "name": "stdout",
     "output_type": "stream",
     "text": [
      "\nCalculating iteration 28\nCalculating iteration 29"
     ]
    },
    {
     "name": "stdout",
     "output_type": "stream",
     "text": [
      "\nCalculating iteration 30\nCalculating iteration 31\n"
     ]
    },
    {
     "name": "stdout",
     "output_type": "stream",
     "text": [
      "Calculating iteration 32\nCalculating iteration 33\nCalculating iteration 34\n"
     ]
    },
    {
     "name": "stdout",
     "output_type": "stream",
     "text": [
      "Calculating iteration 35\nCalculating iteration 36\nCalculating iteration 37\n"
     ]
    },
    {
     "name": "stdout",
     "output_type": "stream",
     "text": [
      "Calculating iteration 38\nCalculating iteration 39\nCalculating iteration 40\nCalculating iteration 41"
     ]
    },
    {
     "name": "stdout",
     "output_type": "stream",
     "text": [
      "\nCalculating iteration 42\nCalculating iteration 43\n"
     ]
    },
    {
     "name": "stdout",
     "output_type": "stream",
     "text": [
      "Calculating iteration 44\nCalculating iteration 45\nCalculating iteration 46\n"
     ]
    },
    {
     "name": "stdout",
     "output_type": "stream",
     "text": [
      "Calculating iteration 47\nCalculating iteration 48\nCalculating iteration 49\n"
     ]
    },
    {
     "name": "stdout",
     "output_type": "stream",
     "text": [
      "Calculating iteration 50\nCalculating iteration 51\nCalculating iteration 52\n"
     ]
    },
    {
     "name": "stdout",
     "output_type": "stream",
     "text": [
      "Calculating iteration 53\nCalculating iteration 54\nCalculating iteration 55\n"
     ]
    },
    {
     "name": "stdout",
     "output_type": "stream",
     "text": [
      "Calculating iteration 56\nCalculating iteration 57\nCalculating iteration 58\nCalculating iteration 59"
     ]
    },
    {
     "name": "stdout",
     "output_type": "stream",
     "text": [
      "\nCalculating iteration 60\nCalculating iteration 61\nCalculating iteration 62"
     ]
    },
    {
     "name": "stdout",
     "output_type": "stream",
     "text": [
      "\nCalculating iteration 63\nCalculating iteration 64\nCalculating iteration 65"
     ]
    },
    {
     "name": "stdout",
     "output_type": "stream",
     "text": [
      "\nCalculating iteration 66\nCalculating iteration 67\nCalculating iteration 68"
     ]
    },
    {
     "name": "stdout",
     "output_type": "stream",
     "text": [
      "\nCalculating iteration 69\nCalculating iteration 70\nCalculating iteration 71"
     ]
    },
    {
     "name": "stdout",
     "output_type": "stream",
     "text": [
      "\nCalculating iteration 72\nCalculating iteration 73\nCalculating iteration 74"
     ]
    },
    {
     "name": "stdout",
     "output_type": "stream",
     "text": [
      "\nCalculating iteration 75\nCalculating iteration 76\nCalculating iteration 77\n"
     ]
    },
    {
     "name": "stdout",
     "output_type": "stream",
     "text": [
      "Calculating iteration 78\nCalculating iteration 79\nCalculating iteration 80\nCalculating iteration 81\n"
     ]
    },
    {
     "name": "stdout",
     "output_type": "stream",
     "text": [
      "Calculating iteration 82\nCalculating iteration 83\nCalculating iteration 84\nCalculating iteration 85"
     ]
    },
    {
     "name": "stdout",
     "output_type": "stream",
     "text": [
      "\nCalculating iteration 86\nCalculating iteration 87\nCalculating iteration 88"
     ]
    },
    {
     "name": "stdout",
     "output_type": "stream",
     "text": [
      "\nCalculating iteration 89\nCalculating iteration 90\n"
     ]
    },
    {
     "name": "stdout",
     "output_type": "stream",
     "text": [
      "Calculating iteration 91\nCalculating iteration 92\nCalculating iteration 93\nCalculating iteration 94"
     ]
    },
    {
     "name": "stdout",
     "output_type": "stream",
     "text": [
      "\nCalculating iteration 95\nCalculating iteration 96\nCalculating iteration 97"
     ]
    },
    {
     "name": "stdout",
     "output_type": "stream",
     "text": [
      "\nCalculating iteration 98\nCalculating iteration 99\nCalculating iteration 100\n"
     ]
    },
    {
     "name": "stdout",
     "output_type": "stream",
     "text": [
      "Calculating iteration 101\nCalculating iteration 102\nCalculating iteration 103\nCalculating iteration 104\n"
     ]
    },
    {
     "name": "stdout",
     "output_type": "stream",
     "text": [
      "Calculating iteration 105\nCalculating iteration 106\nCalculating iteration 107\nCalculating iteration 108\nCalculating iteration 109\n"
     ]
    },
    {
     "name": "stdout",
     "output_type": "stream",
     "text": [
      "Calculating iteration 110\nCalculating iteration 111\nCalculating iteration 112\nCalculating iteration 113\nCalculating iteration 114\n"
     ]
    },
    {
     "name": "stdout",
     "output_type": "stream",
     "text": [
      "Calculating iteration 115\nCalculating iteration 116\nCalculating iteration 117\nCalculating iteration 118\nCalculating iteration 119\n"
     ]
    },
    {
     "name": "stdout",
     "output_type": "stream",
     "text": [
      "Calculating iteration 120\nCalculating iteration 121\nCalculating iteration 122\nCalculating iteration 123\nCalculating iteration 124\n"
     ]
    },
    {
     "name": "stdout",
     "output_type": "stream",
     "text": [
      "Calculating iteration 125\nCalculating iteration 126\nCalculating iteration 127\nCalculating iteration 128\nCalculating iteration 129\n"
     ]
    },
    {
     "name": "stdout",
     "output_type": "stream",
     "text": [
      "Calculating iteration 130\nCalculating iteration 131\nCalculating iteration 132\nCalculating iteration 133\nCalculating iteration 134\n"
     ]
    },
    {
     "name": "stdout",
     "output_type": "stream",
     "text": [
      "Calculating iteration 135\nCalculating iteration 136\nCalculating iteration 137\nCalculating iteration 138\nCalculating iteration 139\n"
     ]
    },
    {
     "name": "stdout",
     "output_type": "stream",
     "text": [
      "Calculating iteration 140\nCalculating iteration 141\nCalculating iteration 142\nCalculating iteration 143\nCalculating iteration 144\n"
     ]
    },
    {
     "name": "stdout",
     "output_type": "stream",
     "text": [
      "Calculating iteration 145\nCalculating iteration 146\nCalculating iteration 147\nCalculating iteration 148\nCalculating iteration 149\n"
     ]
    },
    {
     "name": "stdout",
     "output_type": "stream",
     "text": [
      "Calculating iteration 150\nCalculating iteration 151\nCalculating iteration 152\nCalculating iteration 153\nCalculating iteration 154\n"
     ]
    },
    {
     "name": "stdout",
     "output_type": "stream",
     "text": [
      "Calculating iteration 155\nCalculating iteration 156\nCalculating iteration 157\nCalculating iteration 158\nCalculating iteration 159\n"
     ]
    },
    {
     "name": "stdout",
     "output_type": "stream",
     "text": [
      "Calculating iteration 160\nCalculating iteration 161\nCalculating iteration 162\nCalculating iteration 163\nCalculating iteration 164\n"
     ]
    },
    {
     "name": "stdout",
     "output_type": "stream",
     "text": [
      "Calculating iteration 165\nCalculating iteration 166\nCalculating iteration 167\nCalculating iteration 168\nCalculating iteration 169\n"
     ]
    },
    {
     "name": "stdout",
     "output_type": "stream",
     "text": [
      "Calculating iteration 170\nCalculating iteration 171\nCalculating iteration 172\nCalculating iteration 173\nCalculating iteration 174"
     ]
    },
    {
     "name": "stdout",
     "output_type": "stream",
     "text": [
      "\nCalculating iteration 175\nCalculating iteration 176\nCalculating iteration 177\nCalculating iteration 178"
     ]
    },
    {
     "name": "stdout",
     "output_type": "stream",
     "text": [
      "\nCalculating iteration 179\nCalculating iteration 180\nCalculating iteration 181\nCalculating iteration 182"
     ]
    },
    {
     "name": "stdout",
     "output_type": "stream",
     "text": [
      "\nCalculating iteration 183\nCalculating iteration 184\nCalculating iteration 185\nCalculating iteration 186\n"
     ]
    },
    {
     "name": "stdout",
     "output_type": "stream",
     "text": [
      "Calculating iteration 187\nCalculating iteration 188\nCalculating iteration 189\nCalculating iteration 190\nCalculating iteration 191"
     ]
    },
    {
     "name": "stdout",
     "output_type": "stream",
     "text": [
      "\nCalculating iteration 192\nCalculating iteration 193\nCalculating iteration 194\nCalculating iteration 195"
     ]
    },
    {
     "name": "stdout",
     "output_type": "stream",
     "text": [
      "\nCalculating iteration 196\nCalculating iteration 197\nCalculating iteration 198\nCalculating iteration 199"
     ]
    },
    {
     "name": "stdout",
     "output_type": "stream",
     "text": [
      "\nCalculating iteration 200\nCalculating iteration 201\nCalculating iteration 202\nCalculating iteration 203"
     ]
    },
    {
     "name": "stdout",
     "output_type": "stream",
     "text": [
      "\nCalculating iteration 204\nCalculating iteration 205\nCalculating iteration 206\nCalculating iteration 207"
     ]
    },
    {
     "name": "stdout",
     "output_type": "stream",
     "text": [
      "\nCalculating iteration 208\nCalculating iteration 209\nCalculating iteration 210\nCalculating iteration 211"
     ]
    },
    {
     "name": "stdout",
     "output_type": "stream",
     "text": [
      "\nCalculating iteration 212\nCalculating iteration 213\nCalculating iteration 214\nCalculating iteration 215"
     ]
    },
    {
     "name": "stdout",
     "output_type": "stream",
     "text": [
      "\nCalculating iteration 216\nCalculating iteration 217\nCalculating iteration 218\nCalculating iteration 219\n"
     ]
    },
    {
     "name": "stdout",
     "output_type": "stream",
     "text": [
      "Calculating iteration 220\nCalculating iteration 221\nCalculating iteration 222\nCalculating iteration 223\nCalculating iteration 224\n"
     ]
    },
    {
     "name": "stdout",
     "output_type": "stream",
     "text": [
      "Calculating iteration 225\nCalculating iteration 226\nCalculating iteration 227\nCalculating iteration 228\nCalculating iteration 229\n"
     ]
    },
    {
     "name": "stdout",
     "output_type": "stream",
     "text": [
      "Calculating iteration 230\nCalculating iteration 231\nCalculating iteration 232\nCalculating iteration 233\nCalculating iteration 234\n"
     ]
    },
    {
     "name": "stdout",
     "output_type": "stream",
     "text": [
      "Calculating iteration 235\nCalculating iteration 236\nCalculating iteration 237\nCalculating iteration 238\nCalculating iteration 239\n"
     ]
    },
    {
     "name": "stdout",
     "output_type": "stream",
     "text": [
      "Calculating iteration 240\nCalculating iteration 241\nCalculating iteration 242\nCalculating iteration 243\nCalculating iteration 244"
     ]
    },
    {
     "name": "stdout",
     "output_type": "stream",
     "text": [
      "\nCalculating iteration 245\nCalculating iteration 246\nCalculating iteration 247\nCalculating iteration 248\n"
     ]
    },
    {
     "name": "stdout",
     "output_type": "stream",
     "text": [
      "Calculating iteration 249\nCalculating iteration 250\nCalculating iteration 251\nCalculating iteration 252\nCalculating iteration 253\n"
     ]
    },
    {
     "name": "stdout",
     "output_type": "stream",
     "text": [
      "Calculating iteration 254\nCalculating iteration 255\nCalculating iteration 256\nCalculating iteration 257\nCalculating iteration 258"
     ]
    },
    {
     "name": "stdout",
     "output_type": "stream",
     "text": [
      "\nCalculating iteration 259\nCalculating iteration 260\nCalculating iteration 261\nCalculating iteration 262"
     ]
    },
    {
     "name": "stdout",
     "output_type": "stream",
     "text": [
      "\nCalculating iteration 263\nCalculating iteration 264\nCalculating iteration 265\n"
     ]
    },
    {
     "name": "stdout",
     "output_type": "stream",
     "text": [
      "Calculating iteration 266\nCalculating iteration 267\nCalculating iteration 268\nCalculating iteration 269\nCalculating iteration 270"
     ]
    },
    {
     "name": "stdout",
     "output_type": "stream",
     "text": [
      "\nCalculating iteration 271\nCalculating iteration 272\nCalculating iteration 273\n"
     ]
    },
    {
     "name": "stdout",
     "output_type": "stream",
     "text": [
      "Calculating iteration 274\nCalculating iteration 275\nCalculating iteration 276\nCalculating iteration 277\nCalculating iteration 278\n"
     ]
    },
    {
     "name": "stdout",
     "output_type": "stream",
     "text": [
      "Calculating iteration 279\nCalculating iteration 280\nCalculating iteration 281\nCalculating iteration 282\n"
     ]
    },
    {
     "name": "stdout",
     "output_type": "stream",
     "text": [
      "Calculating iteration 283\nCalculating iteration 284\nCalculating iteration 285\nCalculating iteration 286\nCalculating iteration 287\n"
     ]
    },
    {
     "name": "stdout",
     "output_type": "stream",
     "text": [
      "Calculating iteration 288\nCalculating iteration 289\nCalculating iteration 290\nCalculating iteration 291\nCalculating iteration 292\n"
     ]
    },
    {
     "name": "stdout",
     "output_type": "stream",
     "text": [
      "Calculating iteration 293\nCalculating iteration 294\nCalculating iteration 295\nCalculating iteration 296\nCalculating iteration 297\n"
     ]
    },
    {
     "name": "stdout",
     "output_type": "stream",
     "text": [
      "Calculating iteration 298\nCalculating iteration 299\nCalculating iteration 300\nCalculating iteration 301\nCalculating iteration 302\n"
     ]
    },
    {
     "name": "stdout",
     "output_type": "stream",
     "text": [
      "Calculating iteration 303\nCalculating iteration 304\nCalculating iteration 305\nCalculating iteration 306\nCalculating iteration 307\n"
     ]
    },
    {
     "name": "stdout",
     "output_type": "stream",
     "text": [
      "Calculating iteration 308\nCalculating iteration 309\nCalculating iteration 310\nCalculating iteration 311\nCalculating iteration 312\n"
     ]
    },
    {
     "name": "stdout",
     "output_type": "stream",
     "text": [
      "Calculating iteration 313\nCalculating iteration 314\nCalculating iteration 315\nCalculating iteration 316\nCalculating iteration 317"
     ]
    },
    {
     "name": "stdout",
     "output_type": "stream",
     "text": [
      "\nCalculating iteration 318\nCalculating iteration 319\nCalculating iteration 320\nCalculating iteration 321"
     ]
    },
    {
     "name": "stdout",
     "output_type": "stream",
     "text": [
      "\nCalculating iteration 322\nCalculating iteration 323\nCalculating iteration 324\n"
     ]
    },
    {
     "name": "stdout",
     "output_type": "stream",
     "text": [
      "Calculating iteration 325\nCalculating iteration 326\nCalculating iteration 327\nCalculating iteration 328\nCalculating iteration 329\n"
     ]
    },
    {
     "name": "stdout",
     "output_type": "stream",
     "text": [
      "Calculating iteration 330\nCalculating iteration 331\nCalculating iteration 332\nCalculating iteration 333\nCalculating iteration 334\n"
     ]
    },
    {
     "name": "stdout",
     "output_type": "stream",
     "text": [
      "Calculating iteration 335\nCalculating iteration 336\nCalculating iteration 337\nCalculating iteration 338\nCalculating iteration 339\n"
     ]
    },
    {
     "name": "stdout",
     "output_type": "stream",
     "text": [
      "Calculating iteration 340\nCalculating iteration 341\nCalculating iteration 342\nCalculating iteration 343\nCalculating iteration 344\n"
     ]
    },
    {
     "name": "stdout",
     "output_type": "stream",
     "text": [
      "Calculating iteration 345\nCalculating iteration 346\nCalculating iteration 347\nCalculating iteration 348\nCalculating iteration 349\n"
     ]
    },
    {
     "name": "stdout",
     "output_type": "stream",
     "text": [
      "Calculating iteration 350\nCalculating iteration 351\nCalculating iteration 352\nCalculating iteration 353\nCalculating iteration 354\n"
     ]
    },
    {
     "name": "stdout",
     "output_type": "stream",
     "text": [
      "Calculating iteration 355\nCalculating iteration 356\nCalculating iteration 357\nCalculating iteration 358\nCalculating iteration 359\n"
     ]
    },
    {
     "name": "stdout",
     "output_type": "stream",
     "text": [
      "Calculating iteration 360\nCalculating iteration 361\nCalculating iteration 362\nCalculating iteration 363\nCalculating iteration 364\n"
     ]
    },
    {
     "name": "stdout",
     "output_type": "stream",
     "text": [
      "Calculating iteration 365\nCalculating iteration 366\nCalculating iteration 367\nCalculating iteration 368\nCalculating iteration 369\n"
     ]
    },
    {
     "name": "stdout",
     "output_type": "stream",
     "text": [
      "Calculating iteration 370\nCalculating iteration 371\nCalculating iteration 372\nCalculating iteration 373\nCalculating iteration 374\n"
     ]
    },
    {
     "name": "stdout",
     "output_type": "stream",
     "text": [
      "Calculating iteration 375\nCalculating iteration 376\nCalculating iteration 377\nCalculating iteration 378\nCalculating iteration 379"
     ]
    },
    {
     "name": "stdout",
     "output_type": "stream",
     "text": [
      "\nCalculating iteration 380\nCalculating iteration 381\nCalculating iteration 382\nCalculating iteration 383\n"
     ]
    },
    {
     "name": "stdout",
     "output_type": "stream",
     "text": [
      "Calculating iteration 384\nCalculating iteration 385\nCalculating iteration 386\nCalculating iteration 387\nCalculating iteration 388\n"
     ]
    },
    {
     "name": "stdout",
     "output_type": "stream",
     "text": [
      "Calculating iteration 389\nCalculating iteration 390\nCalculating iteration 391\nCalculating iteration 392\nCalculating iteration 393\n"
     ]
    },
    {
     "name": "stdout",
     "output_type": "stream",
     "text": [
      "Calculating iteration 394\nCalculating iteration 395\nCalculating iteration 396\nCalculating iteration 397\nCalculating iteration 398\n"
     ]
    },
    {
     "name": "stdout",
     "output_type": "stream",
     "text": [
      "Calculating iteration 399\nCalculating iteration 400\nCalculating iteration 401\nCalculating iteration 402\nCalculating iteration 403\n"
     ]
    },
    {
     "name": "stdout",
     "output_type": "stream",
     "text": [
      "Calculating iteration 404\nCalculating iteration 405\nCalculating iteration 406\nCalculating iteration 407\nCalculating iteration 408"
     ]
    },
    {
     "name": "stdout",
     "output_type": "stream",
     "text": [
      "\nCalculating iteration 409\nCalculating iteration 410\nCalculating iteration 411\nCalculating iteration 412"
     ]
    },
    {
     "name": "stdout",
     "output_type": "stream",
     "text": [
      "\nCalculating iteration 413\nCalculating iteration 414\nCalculating iteration 415\nCalculating iteration 416\n"
     ]
    },
    {
     "name": "stdout",
     "output_type": "stream",
     "text": [
      "Calculating iteration 417\nCalculating iteration 418\nCalculating iteration 419\nCalculating iteration 420\nCalculating iteration 421\n"
     ]
    },
    {
     "name": "stdout",
     "output_type": "stream",
     "text": [
      "Calculating iteration 422\nCalculating iteration 423\nCalculating iteration 424\nCalculating iteration 425\nCalculating iteration 426\n"
     ]
    },
    {
     "name": "stdout",
     "output_type": "stream",
     "text": [
      "Calculating iteration 427\nCalculating iteration 428\nCalculating iteration 429\nCalculating iteration 430\nCalculating iteration 431\n"
     ]
    },
    {
     "name": "stdout",
     "output_type": "stream",
     "text": [
      "Calculating iteration 432\nCalculating iteration 433\nCalculating iteration 434\nCalculating iteration 435\nCalculating iteration 436\n"
     ]
    },
    {
     "name": "stdout",
     "output_type": "stream",
     "text": [
      "Calculating iteration 437\nCalculating iteration 438\nCalculating iteration 439\nCalculating iteration 440\n"
     ]
    },
    {
     "name": "stdout",
     "output_type": "stream",
     "text": [
      "Calculating iteration 441\nCalculating iteration 442\nCalculating iteration 443\nCalculating iteration 444\nCalculating iteration 445"
     ]
    },
    {
     "name": "stdout",
     "output_type": "stream",
     "text": [
      "\nCalculating iteration 446\nCalculating iteration 447\nCalculating iteration 448\nCalculating iteration 449\n"
     ]
    },
    {
     "name": "stdout",
     "output_type": "stream",
     "text": [
      "Calculating iteration 450\nCalculating iteration 451\nCalculating iteration 452\nCalculating iteration 453\nCalculating iteration 454\n"
     ]
    },
    {
     "name": "stdout",
     "output_type": "stream",
     "text": [
      "Calculating iteration 455\nCalculating iteration 456\nCalculating iteration 457\nCalculating iteration 458\nCalculating iteration 459\n"
     ]
    },
    {
     "name": "stdout",
     "output_type": "stream",
     "text": [
      "Calculating iteration 460\nCalculating iteration 461\nCalculating iteration 462\nCalculating iteration 463\nCalculating iteration 464\n"
     ]
    },
    {
     "name": "stdout",
     "output_type": "stream",
     "text": [
      "Calculating iteration 465\nCalculating iteration 466\nCalculating iteration 467\nCalculating iteration 468\nCalculating iteration 469\n"
     ]
    },
    {
     "name": "stdout",
     "output_type": "stream",
     "text": [
      "Calculating iteration 470\nCalculating iteration 471\nCalculating iteration 472\nCalculating iteration 473\nCalculating iteration 474\n"
     ]
    },
    {
     "name": "stdout",
     "output_type": "stream",
     "text": [
      "Calculating iteration 475\nCalculating iteration 476\nCalculating iteration 477\nCalculating iteration 478\nCalculating iteration 479\n"
     ]
    },
    {
     "name": "stdout",
     "output_type": "stream",
     "text": [
      "Calculating iteration 480\nCalculating iteration 481\nCalculating iteration 482\nCalculating iteration 483\nCalculating iteration 484"
     ]
    },
    {
     "name": "stdout",
     "output_type": "stream",
     "text": [
      "\nCalculating iteration 485\nCalculating iteration 486\nCalculating iteration 487\nCalculating iteration 488\n"
     ]
    },
    {
     "name": "stdout",
     "output_type": "stream",
     "text": [
      "Calculating iteration 489\nCalculating iteration 490\nCalculating iteration 491\nCalculating iteration 492\nCalculating iteration 493\n"
     ]
    },
    {
     "name": "stdout",
     "output_type": "stream",
     "text": [
      "Calculating iteration 494\nCalculating iteration 495\nCalculating iteration 496\nCalculating iteration 497\nCalculating iteration 498\n"
     ]
    },
    {
     "name": "stdout",
     "output_type": "stream",
     "text": [
      "Calculating iteration 499\nCalculating iteration 500\nCalculating iteration 501\nCalculating iteration 502\nCalculating iteration 503\n"
     ]
    },
    {
     "name": "stdout",
     "output_type": "stream",
     "text": [
      "Calculating iteration 504\nCalculating iteration 505\nCalculating iteration 506\nCalculating iteration 507\nCalculating iteration 508\n"
     ]
    },
    {
     "name": "stdout",
     "output_type": "stream",
     "text": [
      "Calculating iteration 509\nCalculating iteration 510\nCalculating iteration 511\nCalculating iteration 512\nCalculating iteration 513\n"
     ]
    },
    {
     "name": "stdout",
     "output_type": "stream",
     "text": [
      "Calculating iteration 514\nCalculating iteration 515\nCalculating iteration 516\nCalculating iteration 517\nCalculating iteration 518\n"
     ]
    },
    {
     "name": "stdout",
     "output_type": "stream",
     "text": [
      "Calculating iteration 519\nCalculating iteration 520\nCalculating iteration 521\nCalculating iteration 522\nCalculating iteration 523\n"
     ]
    },
    {
     "name": "stdout",
     "output_type": "stream",
     "text": [
      "Calculating iteration 524\nCalculating iteration 525\nCalculating iteration 526\nCalculating iteration 527\n"
     ]
    },
    {
     "name": "stdout",
     "output_type": "stream",
     "text": [
      "Calculating iteration 528\nCalculating iteration 529\nCalculating iteration 530\nCalculating iteration 531\nCalculating iteration 532\n"
     ]
    },
    {
     "name": "stdout",
     "output_type": "stream",
     "text": [
      "Calculating iteration 533\nCalculating iteration 534\nCalculating iteration 535\nCalculating iteration 536\nCalculating iteration 537\n"
     ]
    },
    {
     "name": "stdout",
     "output_type": "stream",
     "text": [
      "Calculating iteration 538\nCalculating iteration 539\nCalculating iteration 540\nCalculating iteration 541\nCalculating iteration 542"
     ]
    },
    {
     "name": "stdout",
     "output_type": "stream",
     "text": [
      "\nCalculating iteration 543\nCalculating iteration 544\nCalculating iteration 545\nCalculating iteration 546\n"
     ]
    },
    {
     "name": "stdout",
     "output_type": "stream",
     "text": [
      "Calculating iteration 547\nCalculating iteration 548\nCalculating iteration 549\nCalculating iteration 550\n"
     ]
    },
    {
     "name": "stdout",
     "output_type": "stream",
     "text": [
      "Calculating iteration 551\nCalculating iteration 552\nCalculating iteration 553\nCalculating iteration 554\nCalculating iteration 555\n"
     ]
    },
    {
     "name": "stdout",
     "output_type": "stream",
     "text": [
      "Calculating iteration 556\nCalculating iteration 557\nCalculating iteration 558\nCalculating iteration 559\nCalculating iteration 560\n"
     ]
    },
    {
     "name": "stdout",
     "output_type": "stream",
     "text": [
      "Calculating iteration 561\nCalculating iteration 562\nCalculating iteration 563\nCalculating iteration 564\nCalculating iteration 565"
     ]
    },
    {
     "name": "stdout",
     "output_type": "stream",
     "text": [
      "\nCalculating iteration 566\nCalculating iteration 567\nCalculating iteration 568\nCalculating iteration 569"
     ]
    },
    {
     "name": "stdout",
     "output_type": "stream",
     "text": [
      "\nCalculating iteration 570\nCalculating iteration 571\nCalculating iteration 572\nCalculating iteration 573\n"
     ]
    },
    {
     "name": "stdout",
     "output_type": "stream",
     "text": [
      "Calculating iteration 574\nCalculating iteration 575\nCalculating iteration 576\nCalculating iteration 577\nCalculating iteration 578\n"
     ]
    },
    {
     "name": "stdout",
     "output_type": "stream",
     "text": [
      "Calculating iteration 579\nCalculating iteration 580\nCalculating iteration 581\nCalculating iteration 582\nCalculating iteration 583\n"
     ]
    },
    {
     "name": "stdout",
     "output_type": "stream",
     "text": [
      "Calculating iteration 584\nCalculating iteration 585\nCalculating iteration 586\nCalculating iteration 587\nCalculating iteration 588\n"
     ]
    },
    {
     "name": "stdout",
     "output_type": "stream",
     "text": [
      "Calculating iteration 589\nCalculating iteration 590\nCalculating iteration 591\nCalculating iteration 592\nCalculating iteration 593\n"
     ]
    },
    {
     "name": "stdout",
     "output_type": "stream",
     "text": [
      "Calculating iteration 594\nCalculating iteration 595\nCalculating iteration 596\nCalculating iteration 597\nCalculating iteration 598"
     ]
    },
    {
     "name": "stdout",
     "output_type": "stream",
     "text": [
      "\nCalculating iteration 599\nCalculating iteration 600\nCalculating iteration 601\nCalculating iteration 602\n"
     ]
    },
    {
     "name": "stdout",
     "output_type": "stream",
     "text": [
      "Calculating iteration 603\nCalculating iteration 604\nCalculating iteration 605\nCalculating iteration 606\nCalculating iteration 607"
     ]
    },
    {
     "name": "stdout",
     "output_type": "stream",
     "text": [
      "\nCalculating iteration 608\nCalculating iteration 609\nCalculating iteration 610\nCalculating iteration 611"
     ]
    },
    {
     "name": "stdout",
     "output_type": "stream",
     "text": [
      "\nCalculating iteration 612\nCalculating iteration 613\nCalculating iteration 614\nCalculating iteration 615"
     ]
    },
    {
     "name": "stdout",
     "output_type": "stream",
     "text": [
      "\nCalculating iteration 616\nCalculating iteration 617\nCalculating iteration 618\nCalculating iteration 619\n"
     ]
    },
    {
     "name": "stdout",
     "output_type": "stream",
     "text": [
      "Calculating iteration 620\nCalculating iteration 621\nCalculating iteration 622\nCalculating iteration 623\n"
     ]
    },
    {
     "name": "stdout",
     "output_type": "stream",
     "text": [
      "Calculating iteration 624\nCalculating iteration 625\nCalculating iteration 626\nCalculating iteration 627\nCalculating iteration 628\n"
     ]
    },
    {
     "name": "stdout",
     "output_type": "stream",
     "text": [
      "Calculating iteration 629\nCalculating iteration 630\nCalculating iteration 631\nCalculating iteration 632\nCalculating iteration 633"
     ]
    },
    {
     "name": "stdout",
     "output_type": "stream",
     "text": [
      "\nCalculating iteration 634\nCalculating iteration 635\nCalculating iteration 636\nCalculating iteration 637\n"
     ]
    },
    {
     "name": "stdout",
     "output_type": "stream",
     "text": [
      "Calculating iteration 638\nCalculating iteration 639\nCalculating iteration 640\nCalculating iteration 641\nCalculating iteration 642\n"
     ]
    },
    {
     "name": "stdout",
     "output_type": "stream",
     "text": [
      "Calculating iteration 643\nCalculating iteration 644\nCalculating iteration 645\nCalculating iteration 646\nCalculating iteration 647\n"
     ]
    },
    {
     "name": "stdout",
     "output_type": "stream",
     "text": [
      "Calculating iteration 648\nCalculating iteration 649\nCalculating iteration 650\nCalculating iteration 651\nCalculating iteration 652"
     ]
    },
    {
     "name": "stdout",
     "output_type": "stream",
     "text": [
      "\nCalculating iteration 653\nCalculating iteration 654\nCalculating iteration 655\nCalculating iteration 656"
     ]
    },
    {
     "name": "stdout",
     "output_type": "stream",
     "text": [
      "\nCalculating iteration 657\nCalculating iteration 658\nCalculating iteration 659\nCalculating iteration 660"
     ]
    },
    {
     "name": "stdout",
     "output_type": "stream",
     "text": [
      "\nCalculating iteration 661\nCalculating iteration 662\nCalculating iteration 663\nCalculating iteration 664"
     ]
    },
    {
     "name": "stdout",
     "output_type": "stream",
     "text": [
      "\nCalculating iteration 665\nCalculating iteration 666\nCalculating iteration 667\nCalculating iteration 668\n"
     ]
    },
    {
     "name": "stdout",
     "output_type": "stream",
     "text": [
      "Calculating iteration 669\nCalculating iteration 670\nCalculating iteration 671\nCalculating iteration 672\nCalculating iteration 673\n"
     ]
    },
    {
     "name": "stdout",
     "output_type": "stream",
     "text": [
      "Calculating iteration 674\nCalculating iteration 675\nCalculating iteration 676\nCalculating iteration 677\nCalculating iteration 678\n"
     ]
    },
    {
     "name": "stdout",
     "output_type": "stream",
     "text": [
      "Calculating iteration 679\nCalculating iteration 680\nCalculating iteration 681\nCalculating iteration 682\nCalculating iteration 683\n"
     ]
    },
    {
     "name": "stdout",
     "output_type": "stream",
     "text": [
      "Calculating iteration 684\nCalculating iteration 685\nCalculating iteration 686\nCalculating iteration 687\nCalculating iteration 688\n"
     ]
    },
    {
     "name": "stdout",
     "output_type": "stream",
     "text": [
      "Calculating iteration 689\nCalculating iteration 690\nCalculating iteration 691\nCalculating iteration 692\nCalculating iteration 693\n"
     ]
    },
    {
     "name": "stdout",
     "output_type": "stream",
     "text": [
      "Calculating iteration 694\nCalculating iteration 695\nCalculating iteration 696\nCalculating iteration 697\nCalculating iteration 698\n"
     ]
    },
    {
     "name": "stdout",
     "output_type": "stream",
     "text": [
      "Calculating iteration 699\nCalculating iteration 700\nCalculating iteration 701\nCalculating iteration 702\nCalculating iteration 703\n"
     ]
    },
    {
     "name": "stdout",
     "output_type": "stream",
     "text": [
      "Calculating iteration 704\nCalculating iteration 705\nCalculating iteration 706\nCalculating iteration 707\nCalculating iteration 708\n"
     ]
    },
    {
     "name": "stdout",
     "output_type": "stream",
     "text": [
      "Calculating iteration 709\nCalculating iteration 710\nCalculating iteration 711\nCalculating iteration 712\nCalculating iteration 713\n"
     ]
    },
    {
     "name": "stdout",
     "output_type": "stream",
     "text": [
      "Calculating iteration 714\nCalculating iteration 715\nCalculating iteration 716\nCalculating iteration 717\nCalculating iteration 718\n"
     ]
    },
    {
     "name": "stdout",
     "output_type": "stream",
     "text": [
      "Calculating iteration 719\nCalculating iteration 720\nCalculating iteration 721\nCalculating iteration 722\nCalculating iteration 723\n"
     ]
    },
    {
     "name": "stdout",
     "output_type": "stream",
     "text": [
      "Calculating iteration 724\nCalculating iteration 725\nCalculating iteration 726\nCalculating iteration 727\nCalculating iteration 728"
     ]
    },
    {
     "name": "stdout",
     "output_type": "stream",
     "text": [
      "\nCalculating iteration 729\nCalculating iteration 730\nCalculating iteration 731\nCalculating iteration 732\n"
     ]
    },
    {
     "name": "stdout",
     "output_type": "stream",
     "text": [
      "Calculating iteration 733\nCalculating iteration 734\nCalculating iteration 735\nCalculating iteration 736\nCalculating iteration 737\n"
     ]
    },
    {
     "name": "stdout",
     "output_type": "stream",
     "text": [
      "Calculating iteration 738\nCalculating iteration 739\nCalculating iteration 740\nCalculating iteration 741\nCalculating iteration 742\n"
     ]
    },
    {
     "name": "stdout",
     "output_type": "stream",
     "text": [
      "Calculating iteration 743\nCalculating iteration 744\nCalculating iteration 745\nCalculating iteration 746\nCalculating iteration 747\n"
     ]
    },
    {
     "name": "stdout",
     "output_type": "stream",
     "text": [
      "Calculating iteration 748\nCalculating iteration 749\nCalculating iteration 750\nCalculating iteration 751\nCalculating iteration 752\n"
     ]
    },
    {
     "name": "stdout",
     "output_type": "stream",
     "text": [
      "Calculating iteration 753\nCalculating iteration 754\nCalculating iteration 755\nCalculating iteration 756\nCalculating iteration 757"
     ]
    },
    {
     "name": "stdout",
     "output_type": "stream",
     "text": [
      "\nCalculating iteration 758\nCalculating iteration 759\nCalculating iteration 760\nCalculating iteration 761\n"
     ]
    },
    {
     "name": "stdout",
     "output_type": "stream",
     "text": [
      "Calculating iteration 762\nCalculating iteration 763\nCalculating iteration 764\nCalculating iteration 765\nCalculating iteration 766\n"
     ]
    },
    {
     "name": "stdout",
     "output_type": "stream",
     "text": [
      "Calculating iteration 767\nCalculating iteration 768\nCalculating iteration 769\nCalculating iteration 770\nCalculating iteration 771\n"
     ]
    },
    {
     "name": "stdout",
     "output_type": "stream",
     "text": [
      "Calculating iteration 772\nCalculating iteration 773\nCalculating iteration 774\nCalculating iteration 775\nCalculating iteration 776\n"
     ]
    },
    {
     "name": "stdout",
     "output_type": "stream",
     "text": [
      "Calculating iteration 777\nCalculating iteration 778\nCalculating iteration 779\nCalculating iteration 780\nCalculating iteration 781\n"
     ]
    },
    {
     "name": "stdout",
     "output_type": "stream",
     "text": [
      "Calculating iteration 782\nCalculating iteration 783\nCalculating iteration 784\nCalculating iteration 785\nCalculating iteration 786"
     ]
    },
    {
     "name": "stdout",
     "output_type": "stream",
     "text": [
      "\nCalculating iteration 787\nCalculating iteration 788\nCalculating iteration 789\nCalculating iteration 790\n"
     ]
    },
    {
     "name": "stdout",
     "output_type": "stream",
     "text": [
      "Calculating iteration 791\nCalculating iteration 792\nCalculating iteration 793\nCalculating iteration 794\nCalculating iteration 795\nCalculating iteration 796\n"
     ]
    },
    {
     "name": "stdout",
     "output_type": "stream",
     "text": [
      "Calculating iteration 797\nCalculating iteration 798\nCalculating iteration 799\nCalculating iteration 800\nCalculating iteration 801\n"
     ]
    },
    {
     "name": "stdout",
     "output_type": "stream",
     "text": [
      "Calculating iteration 802\nCalculating iteration 803\nCalculating iteration 804\nCalculating iteration 805\nCalculating iteration 806\n"
     ]
    },
    {
     "name": "stdout",
     "output_type": "stream",
     "text": [
      "Calculating iteration 807\nCalculating iteration 808\nCalculating iteration 809\nCalculating iteration 810\nCalculating iteration 811\n"
     ]
    },
    {
     "name": "stdout",
     "output_type": "stream",
     "text": [
      "Calculating iteration 812\nCalculating iteration 813\nCalculating iteration 814\nCalculating iteration 815\nCalculating iteration 816\n"
     ]
    },
    {
     "name": "stdout",
     "output_type": "stream",
     "text": [
      "Calculating iteration 817\nCalculating iteration 818\nCalculating iteration 819\nCalculating iteration 820\n"
     ]
    },
    {
     "name": "stdout",
     "output_type": "stream",
     "text": [
      "Calculating iteration 821\nCalculating iteration 822\nCalculating iteration 823\nCalculating iteration 824\nCalculating iteration 825\n"
     ]
    },
    {
     "name": "stdout",
     "output_type": "stream",
     "text": [
      "Calculating iteration 826\nCalculating iteration 827\nCalculating iteration 828\nCalculating iteration 829\nCalculating iteration 830\n"
     ]
    },
    {
     "name": "stdout",
     "output_type": "stream",
     "text": [
      "Calculating iteration 831\nCalculating iteration 832\nCalculating iteration 833\nCalculating iteration 834\nCalculating iteration 835"
     ]
    },
    {
     "name": "stdout",
     "output_type": "stream",
     "text": [
      "\nCalculating iteration 836\nCalculating iteration 837\nCalculating iteration 838\n"
     ]
    },
    {
     "name": "stdout",
     "output_type": "stream",
     "text": [
      "Calculating iteration 839\nCalculating iteration 840\nCalculating iteration 841\nCalculating iteration 842\nCalculating iteration 843\n"
     ]
    },
    {
     "name": "stdout",
     "output_type": "stream",
     "text": [
      "Calculating iteration 844\nCalculating iteration 845\nCalculating iteration 846\nCalculating iteration 847\nCalculating iteration 848\n"
     ]
    },
    {
     "name": "stdout",
     "output_type": "stream",
     "text": [
      "Calculating iteration 849\nCalculating iteration 850\nCalculating iteration 851\nCalculating iteration 852\nCalculating iteration 853\n"
     ]
    },
    {
     "name": "stdout",
     "output_type": "stream",
     "text": [
      "Calculating iteration 854\nCalculating iteration 855\nCalculating iteration 856\nCalculating iteration 857\nCalculating iteration 858\n"
     ]
    },
    {
     "name": "stdout",
     "output_type": "stream",
     "text": [
      "Calculating iteration 859\nCalculating iteration 860\nCalculating iteration 861\nCalculating iteration 862\n"
     ]
    },
    {
     "name": "stdout",
     "output_type": "stream",
     "text": [
      "Calculating iteration 863\nCalculating iteration 864\nCalculating iteration 865\nCalculating iteration 866\n"
     ]
    },
    {
     "name": "stdout",
     "output_type": "stream",
     "text": [
      "Calculating iteration 867\nCalculating iteration 868\nCalculating iteration 869\nCalculating iteration 870\n"
     ]
    },
    {
     "name": "stdout",
     "output_type": "stream",
     "text": [
      "Calculating iteration 871\nCalculating iteration 872\nCalculating iteration 873\nCalculating iteration 874\nCalculating iteration 875"
     ]
    },
    {
     "name": "stdout",
     "output_type": "stream",
     "text": [
      "\nCalculating iteration 876\nCalculating iteration 877\nCalculating iteration 878\nCalculating iteration 879\n"
     ]
    },
    {
     "name": "stdout",
     "output_type": "stream",
     "text": [
      "Calculating iteration 880\nCalculating iteration 881\nCalculating iteration 882\nCalculating iteration 883\n"
     ]
    },
    {
     "name": "stdout",
     "output_type": "stream",
     "text": [
      "Calculating iteration 884\nCalculating iteration 885\nCalculating iteration 886\nCalculating iteration 887\n"
     ]
    },
    {
     "name": "stdout",
     "output_type": "stream",
     "text": [
      "Calculating iteration 888\nCalculating iteration 889\nCalculating iteration 890\nCalculating iteration 891\nCalculating iteration 892"
     ]
    },
    {
     "name": "stdout",
     "output_type": "stream",
     "text": [
      "\nCalculating iteration 893\nCalculating iteration 894\nCalculating iteration 895\nCalculating iteration 896\n"
     ]
    },
    {
     "name": "stdout",
     "output_type": "stream",
     "text": [
      "Calculating iteration 897\nCalculating iteration 898\nCalculating iteration 899\nCalculating iteration 900\nCalculating iteration 901\n"
     ]
    },
    {
     "name": "stdout",
     "output_type": "stream",
     "text": [
      "Calculating iteration 902\nCalculating iteration 903\nCalculating iteration 904\nCalculating iteration 905\nCalculating iteration 906\n"
     ]
    },
    {
     "name": "stdout",
     "output_type": "stream",
     "text": [
      "Calculating iteration 907\nCalculating iteration 908\nCalculating iteration 909\nCalculating iteration 910\nCalculating iteration 911\n"
     ]
    },
    {
     "name": "stdout",
     "output_type": "stream",
     "text": [
      "Calculating iteration 912\nCalculating iteration 913\nCalculating iteration 914\nCalculating iteration 915\n"
     ]
    },
    {
     "name": "stdout",
     "output_type": "stream",
     "text": [
      "Calculating iteration 916\nCalculating iteration 917\nCalculating iteration 918\nCalculating iteration 919\nCalculating iteration 920\n"
     ]
    },
    {
     "name": "stdout",
     "output_type": "stream",
     "text": [
      "Calculating iteration 921\nCalculating iteration 922\nCalculating iteration 923\nCalculating iteration 924\nCalculating iteration 925"
     ]
    },
    {
     "name": "stdout",
     "output_type": "stream",
     "text": [
      "\nCalculating iteration 926\nCalculating iteration 927\nCalculating iteration 928\nCalculating iteration 929"
     ]
    },
    {
     "name": "stdout",
     "output_type": "stream",
     "text": [
      "\nCalculating iteration 930\nCalculating iteration 931\nCalculating iteration 932\nCalculating iteration 933"
     ]
    },
    {
     "name": "stdout",
     "output_type": "stream",
     "text": [
      "\nCalculating iteration 934\nCalculating iteration 935\nCalculating iteration 936\nCalculating iteration 937\n"
     ]
    },
    {
     "name": "stdout",
     "output_type": "stream",
     "text": [
      "Calculating iteration 938\nCalculating iteration 939\nCalculating iteration 940\nCalculating iteration 941\n"
     ]
    },
    {
     "name": "stdout",
     "output_type": "stream",
     "text": [
      "Calculating iteration 942\nCalculating iteration 943\nCalculating iteration 944\nCalculating iteration 945"
     ]
    },
    {
     "name": "stdout",
     "output_type": "stream",
     "text": [
      "\nCalculating iteration 946\nCalculating iteration 947\nCalculating iteration 948\n"
     ]
    },
    {
     "name": "stdout",
     "output_type": "stream",
     "text": [
      "Calculating iteration 949\nCalculating iteration 950\nCalculating iteration 951\n"
     ]
    },
    {
     "name": "stdout",
     "output_type": "stream",
     "text": [
      "Calculating iteration 952\nCalculating iteration 953\nCalculating iteration 954\nCalculating iteration 955\n"
     ]
    },
    {
     "name": "stdout",
     "output_type": "stream",
     "text": [
      "Calculating iteration 956\nCalculating iteration 957\nCalculating iteration 958\nCalculating iteration 959\nCalculating iteration 960\n"
     ]
    },
    {
     "name": "stdout",
     "output_type": "stream",
     "text": [
      "Calculating iteration 961\nCalculating iteration 962\nCalculating iteration 963\nCalculating iteration 964\n"
     ]
    },
    {
     "name": "stdout",
     "output_type": "stream",
     "text": [
      "Calculating iteration 965\nCalculating iteration 966\nCalculating iteration 967\nCalculating iteration 968\n"
     ]
    },
    {
     "name": "stdout",
     "output_type": "stream",
     "text": [
      "Calculating iteration 969\nCalculating iteration 970\nCalculating iteration 971\nCalculating iteration 972\nCalculating iteration 973\n"
     ]
    },
    {
     "name": "stdout",
     "output_type": "stream",
     "text": [
      "Calculating iteration 974\nCalculating iteration 975\nCalculating iteration 976\nCalculating iteration 977\nCalculating iteration 978\n"
     ]
    },
    {
     "name": "stdout",
     "output_type": "stream",
     "text": [
      "Calculating iteration 979\nCalculating iteration 980\nCalculating iteration 981\nCalculating iteration 982\nCalculating iteration 983\n"
     ]
    },
    {
     "name": "stdout",
     "output_type": "stream",
     "text": [
      "Calculating iteration 984\nCalculating iteration 985\nCalculating iteration 986\nCalculating iteration 987\nCalculating iteration 988\n"
     ]
    },
    {
     "name": "stdout",
     "output_type": "stream",
     "text": [
      "Calculating iteration 989\nCalculating iteration 990\nCalculating iteration 991\nCalculating iteration 992\nCalculating iteration 993\n"
     ]
    },
    {
     "name": "stdout",
     "output_type": "stream",
     "text": [
      "Calculating iteration 994\nCalculating iteration 995\nCalculating iteration 996\nCalculating iteration 997\nCalculating iteration 998\n"
     ]
    },
    {
     "name": "stdout",
     "output_type": "stream",
     "text": [
      "Calculating iteration 999\n"
     ]
    }
   ],
   "source": [
    "mc_nemar_errors = 0\n",
    "pair_z_errors = 0\n",
    "resampled_t_errors = 0\n",
    "kfold_t_errors = 0\n",
    "t_test5x2_errors = 0\n",
    "\n",
    "for i in range(0, 1000):\n",
    "    print(\"Calculating iteration \" + str(i))\n",
    "    sample_true_class = sample_dataset_classes(test_class, num_samples)\n",
    "    sample_classifier1, sample_classifier2 = sample_classifiers(sample_true_class, -0.02, 0.02)\n",
    "    n01, n10, n00, n11 = get_results(sample_classifier1, sample_classifier2, sample_true_class)\n",
    "    if (mc_nemar(sample_true_class, sample_classifier1, sample_classifier2, 3.841)):\n",
    "        mc_nemar_errors += 1\n",
    "    if (pair_z(sample_true_class, sample_classifier1, sample_classifier2, 1.96)):\n",
    "        pair_z_errors += 1\n",
    "    if (resampled_t_test(sample_true_class, 2.04523)):\n",
    "        resampled_t_errors += 1\n",
    "    if (kfold_t_test(sample_true_class, sample_classifier1, sample_classifier2, 2.262)):\n",
    "        kfold_t_errors += 1\n",
    "    if (t_test5x2cv(sample_true_class, sample_classifier1, sample_classifier2, 2.571)):\n",
    "        t_test5x2_errors += 1\n"
   ]
  },
  {
   "cell_type": "code",
   "execution_count": null,
   "metadata": {
    "collapsed": false
   },
   "outputs": [
    {
     "name": "stdout",
     "output_type": "stream",
     "text": [
      "30\n58\n64\n21\n14\n"
     ]
    }
   ],
   "source": [
    "print(mc_nemar_errors)\n",
    "print(pair_z_errors)\n",
    "print(resampled_t_errors)\n",
    "print(kfold_t_errors)\n",
    "print(t_test5x2_errors)\n"
   ]
  },
  {
   "cell_type": "code",
   "execution_count": 26,
   "metadata": {},
   "outputs": [
    {
     "data": {
      "image/png": "[encoded data removed]",
      "text/plain": [
       "<Figure size 432x288 with 1 Axes>"
      ]
     },
     "metadata": {},
     "output_type": "display_data"
    }
   ],
   "source": [
    "objects = ('McNemar', 'PairZ', 'ResampledT', 'K-Fold', '5x2cv-ttest')\n",
    "y_pos = np.arange(len(objects))\n",
    "performance = [mc_nemar_errors/1000,pair_z_errors/1000,resampled_t_errors/1000,kfold_t_errors/1000,t_test5x2_errors/1000]\n",
    " \n",
    "plt.bar(y_pos, performance, align='center', alpha=0.5)\n",
    "plt.xticks(y_pos, objects)\n",
    "plt.ylabel('Vjerojatnost greške tipa 1')\n",
    "plt.title('Performanse pojedinih statističkih metoda')\n",
    "plt.savefig(\"rezultati.png\")\n",
    "plt.show()\n",
    "\n"
   ]
  }
 ],
 "metadata": {
  "kernelspec": {
   "display_name": "Python 2",
   "language": "python",
   "name": "python2"
  },
  "language_info": {
   "codemirror_mode": {
    "name": "ipython",
    "version": 2
   },
   "file_extension": ".py",
   "mimetype": "text/x-python",
   "name": "python",
   "nbconvert_exporter": "python",
   "pygments_lexer": "ipython2",
   "version": "2.7.6"
  }
 },
 "nbformat": 4,
 "nbformat_minor": 0
}
