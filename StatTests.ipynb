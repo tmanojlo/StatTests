{
 "cells": [
  {
   "cell_type": "code",
   "execution_count": 27,
   "metadata": {
    "collapsed": true
   },
   "outputs": [],
   "source": [
    "import numpy as np\n",
    "import random\n",
    "import sklearn.utils\n",
    "from sklearn.metrics import confusion_matrix\n",
    "from sklearn.metrics import accuracy_score\n",
    "import math\n",
    "from sklearn.model_selection import train_test_split\n",
    "from sklearn.model_selection import KFold, StratifiedKFold\n",
    "from scipy import stats\n",
    "import matplotlib.pyplot as plt;\n",
    "\n",
    "import numpy as np\n",
    "import matplotlib.pyplot as plt\n"
   ]
  },
  {
   "cell_type": "code",
   "execution_count": 2,
   "metadata": {},
   "outputs": [],
   "source": [
    "def flip(classified_sample):\n",
    "    if classified_sample == 1:\n",
    "        classified_sample = 0\n",
    "    else:\n",
    "        classified_sample = 1\n",
    "    return classified_sample"
   ]
  },
  {
   "cell_type": "code",
   "execution_count": 3,
   "metadata": {},
   "outputs": [],
   "source": [
    "n_training_samples = 7500\n",
    "num_iterations = 1000\n",
    "num_samples = 300\n",
    "misclassification_prob1=0.5\n",
    "misclassification_prob2=0.1\n",
    "test_class = []\n",
    "for i in range(0,n_training_samples):\n",
    "    test_class.append(random.randrange(0,2,1))\n",
    "\n",
    "test_class = np.array(test_class)\n"
   ]
  },
  {
   "cell_type": "code",
   "execution_count": 4,
   "metadata": {
    "collapsed": false
   },
   "outputs": [],
   "source": [
    "def get_results(sample_classifier1, sample_classifier2, sample_true_class):\n",
    "    n01 = 0\n",
    "    n10 = 0\n",
    "    n00 = 0\n",
    "    n11 = 0\n",
    "\n",
    "    for i in range(0, len(sample_classifier1)):\n",
    "        if (sample_true_class[i] == sample_classifier1[i]) and (sample_true_class[i] != sample_classifier2[i]):\n",
    "            n01 = n01 + 1\n",
    "        if ((sample_true_class[i] == sample_classifier2[i]) and sample_true_class[i] != sample_classifier1[i]):\n",
    "            n10 = n10 + 1\n",
    "        if (sample_true_class[i] != sample_classifier1[i]) and (sample_true_class[i] != sample_classifier2[i]):\n",
    "            n00 = n00 + 1\n",
    "        if (sample_true_class[i] == sample_classifier1[i]) and (sample_true_class[i] == sample_classifier2[i]):\n",
    "            n11 = n11 + 1\n",
    "    return n01, n10, n00, n11\n",
    "\n",
    "def sample_dataset_classes(test_class, num_samples):\n",
    "    sample_true_class = []\n",
    "    for j in range(0, num_samples):\n",
    "        index = random.randrange(0, 7500, 1)\n",
    "        sample_true_class.append(test_class[index])\n",
    "    return np.array(sample_true_class)\n",
    "\n",
    "\n",
    "def sample_classifiers(sample_true_class, min, max):\n",
    "    sample_classifier1 = []\n",
    "    sample_classifier2 = []\n",
    "    for j in range(0, int(num_samples / 2)):\n",
    "        sample_classifier1.append(sample_true_class[j] if (random.uniform(0, 1) + random.uniform(min,\n",
    "                                                                                                 max)) > misclassification_prob1 else flip(\n",
    "            sample_true_class[j]))\n",
    "        sample_classifier2.append(sample_true_class[j] if (random.uniform(0, 1) + random.uniform(min,\n",
    "                                                                                                 max)) > misclassification_prob2 else flip(\n",
    "            sample_true_class[j]))\n",
    "    for j in range(int(num_samples / 2), num_samples):\n",
    "        sample_classifier1.append(sample_true_class[j] if (random.uniform(0, 1) + random.uniform(min,\n",
    "                                                                                                 max)) > misclassification_prob2 else flip(\n",
    "            sample_true_class[j]))\n",
    "        sample_classifier2.append(sample_true_class[j] if (random.uniform(0, 1) + random.uniform(min,\n",
    "                                                                                                 max)) > misclassification_prob1 else flip(\n",
    "            sample_true_class[j]))\n",
    "\n",
    "    return np.array(sample_classifier1), np.array(sample_classifier2)\n"
   ]
  },
  {
   "cell_type": "code",
   "execution_count": 21,
   "metadata": {},
   "outputs": [],
   "source": [
    "def mc_nemar(sample_true_class, sample_classifier1, sample_classifier2, border_value):\n",
    "    train, test, train_indices, test_indices = train_test_split(sample_true_class, np.arange(num_samples),\n",
    "                                                                test_size=0.3)\n",
    "    n01, n10, n00, n11 = get_results(sample_classifier1[test_indices], sample_classifier2[test_indices],\n",
    "                                     sample_true_class[test_indices])\n",
    "    mcnemar = ((abs(n01 - n10) - 1) ** 2) / (n01 + n10)\n",
    "    if (mcnemar > border_value):\n",
    "        return True\n",
    "    else:\n",
    "        return False\n",
    "\n",
    "#test for difference of two proportions 1.96 z statistic\n",
    "def pair_z(sample_true_class, sample_classifier1, sample_classifier2, border_value):\n",
    "    train, test, train_indices, test_indices = train_test_split(sample_true_class, np.arange(num_samples),\n",
    "                                                                test_size=0.3)\n",
    "    n01, n10, n00, n11 = get_results(sample_classifier1[test_indices], sample_classifier2[test_indices],\n",
    "                                     sample_true_class[test_indices])\n",
    "    pA = (n00 + n01) / (len(test_indices))\n",
    "    pB = (n00 + n10) / (len(test_indices))\n",
    "    p = (pA + pB) / 2\n",
    "    Z = (pA - pB) / math.sqrt((2 * p * (1 - p)) / (len(test_indices)))\n",
    "    if (abs(Z) > border_value):\n",
    "        return True\n",
    "    else:\n",
    "        return False\n",
    "\n",
    "#t statistics, 29 stupnjeva slobode, 2.04523\n",
    "def resampled_t_test(sample_true_class, border_value):\n",
    "    p_a = []\n",
    "    p_b = []\n",
    "    for i in range(0, 30):\n",
    "        train, test, train_indices, test_indices = train_test_split(sample_true_class, np.arange(num_samples),\n",
    "                                                                    test_size=0.3)\n",
    "        sample_classifier1, sample_classifier2 = sample_classifiers(sample_true_class, 0, 0)\n",
    "        n01, n10, n00, n11 = get_results(sample_classifier1[test_indices], sample_classifier2[test_indices],\n",
    "                                         sample_true_class[test_indices])\n",
    "        p_a.append((n00 + n01) / (len(test_indices)))\n",
    "        p_b.append((n00 + n10) / (len(test_indices)))\n",
    "    result = stats.ttest_ind(p_a, p_b)\n",
    "    if (abs(result[0]) > border_value):\n",
    "        return True\n",
    "    else:\n",
    "        return False\n",
    "\n",
    "#kfold t test\n",
    "def kfold_t_test(sample_true_class, sample_classifier1, sample_classifier2, border_value):\n",
    "    p_a = []\n",
    "    p_b = []\n",
    "    kf = StratifiedKFold(n_splits=10, shuffle=True)\n",
    "    kf.get_n_splits(sample_classifier1)\n",
    "    for train_index, test_index in kf.split(sample_true_class, sample_true_class):\n",
    "        n01, n10, n00, n11 = get_results(sample_classifier1[test_index], sample_classifier2[test_index],\n",
    "                                         sample_true_class[test_index])\n",
    "        p_a.append((n00 + n01) / (len(test_index)))\n",
    "        p_b.append((n00 + n10) / (len(test_index)))\n",
    "    result = stats.ttest_ind(p_a, p_b)\n",
    "    if (abs(result[0]) > border_value):\n",
    "        return True\n",
    "    else:\n",
    "        return False\n",
    "\n",
    "#5x2cv test 2.776 mora biti da bi bilo signifikantno\n",
    "def t_test5x2cv(sample_true_class, sample_classifier1, sample_classifier2, border_value):\n",
    "    variance = []\n",
    "    kf = KFold(n_splits=2, shuffle=True)\n",
    "    kf.get_n_splits(sample_classifier1)\n",
    "    for i in range(0, 5):\n",
    "        fold = 0\n",
    "        counter = 0\n",
    "        p_1 = 0\n",
    "        p_2 = 0\n",
    "\n",
    "        for train_index, test_index in kf.split(sample_classifier1):\n",
    "            n01, n10, n00, n11 = get_results(sample_classifier1[test_index], sample_classifier2[test_index],\n",
    "                                             sample_true_class[test_index])\n",
    "            pA = (n00 + n01) / (len(test_index))\n",
    "            pB = (n00 + n10) / (len(test_index))\n",
    "            fold = fold + 1\n",
    "            if (counter == 0):\n",
    "                p_1 = pA - pB\n",
    "            if (counter == 1):\n",
    "                p_2 = pA - pB\n",
    "            counter = counter + 1\n",
    "        p_error = (p_1 + p_2) / 2\n",
    "        variance.append(((p_1 - p_error) ** 2) + ((p_2 - p_error) ** 2))\n",
    "\n",
    "    T = p_1 / (math.sqrt(np.mean(np.array(variance))))\n",
    "    if (abs(T) > border_value):\n",
    "        return True\n",
    "    else:\n",
    "        return False\n"
   ]
  },
  {
   "cell_type": "code",
   "execution_count": 33,
   "metadata": {
    "collapsed": false
   },
   "outputs": [],
   "source": [
    "mc_nemar_errors = 0\n",
    "pair_z_errors = 0\n",
    "resampled_t_errors = 0\n",
    "kfold_t_errors = 0\n",
    "t_test5x2_errors = 0\n",
    "\n",
    "for i in range(0, 1000):\n",
    "    sample_true_class = sample_dataset_classes(test_class, num_samples)\n",
    "    sample_classifier1, sample_classifier2 = sample_classifiers(sample_true_class, -0.02, 0.02)\n",
    "    n01, n10, n00, n11 = get_results(sample_classifier1, sample_classifier2, sample_true_class)\n",
    "    if (mc_nemar(sample_true_class, sample_classifier1, sample_classifier2, 3.841)):\n",
    "        mc_nemar_errors += 1\n",
    "    if (pair_z(sample_true_class, sample_classifier1, sample_classifier2, 1.96)):\n",
    "        pair_z_errors += 1\n",
    "    if (resampled_t_test(sample_true_class, 2.04523)):\n",
    "        resampled_t_errors += 1\n",
    "    if (kfold_t_test(sample_true_class, sample_classifier1, sample_classifier2, 2.262)):\n",
    "        kfold_t_errors += 1\n",
    "    if (t_test5x2cv(sample_true_class, sample_classifier1, sample_classifier2, 2.571)):\n",
    "        t_test5x2_errors += 1\n"
   ]
  },
  {
   "cell_type": "code",
   "execution_count": 34,
   "metadata": {
    "collapsed": false
   },
   "outputs": [
    {
     "name": "stdout",
     "output_type": "stream",
     "text": [
      "21\n51\n62\n14\n12\n"
     ]
    }
   ],
   "source": [
    "print(mc_nemar_errors)\n",
    "print(pair_z_errors)\n",
    "print(resampled_t_errors)\n",
    "print(kfold_t_errors)\n",
    "print(t_test5x2_errors)\n"
   ]
  },
  {
   "cell_type": "code",
   "execution_count": null,
   "metadata": {},
   "outputs": [
    {
     "data": {
      "image/png": "[encoded data removed]",
      "text/plain": [
       "<Figure size 432x288 with 1 Axes>"
      ]
     },
     "metadata": {},
     "output_type": "display_data"
    }
   ],
   "source": [
    "objects = ('McNemar', 'PairZ', 'ResampledT', 'K-Fold', '5x2cv-ttest')\n",
    "y_pos = np.arange(len(objects))\n",
    "performance = [mc_nemar_errors/1000,pair_z_errors/1000,resampled_t_errors/1000,kfold_t_errors/1000,t_test5x2_errors/1000]\n",
    " \n",
    "plt.bar(y_pos, performance, align='center', alpha=0.5)\n",
    "plt.xticks(y_pos, objects)\n",
    "plt.ylabel('Vjerojatnost greške tipa 1')\n",
    "plt.title('Performanse pojedinih statističkih metoda')\n",
    "plt.savefig(\"rezultati.png\")\n",
    "plt.show()\n",
    "\n"
   ]
  }
 ],
 "metadata": {
  "kernelspec": {
   "display_name": "Python 2",
   "language": "python",
   "name": "python2"
  },
  "language_info": {
   "codemirror_mode": {
    "name": "ipython",
    "version": 2
   },
   "file_extension": ".py",
   "mimetype": "text/x-python",
   "name": "python",
   "nbconvert_exporter": "python",
   "pygments_lexer": "ipython2",
   "version": "2.7.6"
  }
 },
 "nbformat": 4,
 "nbformat_minor": 0
}
